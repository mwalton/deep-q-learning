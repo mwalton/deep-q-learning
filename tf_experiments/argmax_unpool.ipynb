{
 "cells": [
  {
   "cell_type": "code",
   "execution_count": 2,
   "metadata": {
    "collapsed": true
   },
   "outputs": [],
   "source": [
    "import tensorflow as tf\n",
    "from tensorflow.examples.tutorials.mnist import input_data\n",
    "import matplotlib.pyplot as plt"
   ]
  },
  {
   "cell_type": "code",
   "execution_count": 3,
   "metadata": {
    "collapsed": true
   },
   "outputs": [],
   "source": [
    "sess = tf.InteractiveSession()"
   ]
  },
  {
   "cell_type": "code",
   "execution_count": 4,
   "metadata": {
    "collapsed": false
   },
   "outputs": [
    {
     "name": "stdout",
     "output_type": "stream",
     "text": [
      "Extracting MNIST_data/train-images-idx3-ubyte.gz\n",
      "Extracting MNIST_data/train-labels-idx1-ubyte.gz\n",
      "Extracting MNIST_data/t10k-images-idx3-ubyte.gz\n",
      "Extracting MNIST_data/t10k-labels-idx1-ubyte.gz\n"
     ]
    }
   ],
   "source": [
    "mnist = input_data.read_data_sets('MNIST_data', one_hot=True)\n",
    "\n",
    "# quick fn to plot images\n",
    "imshow = lambda img : plt.imshow(1 - img.reshape((img.shape[1], img.shape[2])),\n",
    "                                 cmap='Greys_r',interpolation='nearest')"
   ]
  },
  {
   "cell_type": "code",
   "execution_count": 5,
   "metadata": {
    "collapsed": false
   },
   "outputs": [],
   "source": [
    "test_img = tf.reshape(mnist.train.images[1], [1,28,28,1])"
   ]
  },
  {
   "cell_type": "code",
   "execution_count": 6,
   "metadata": {
    "collapsed": false
   },
   "outputs": [],
   "source": [
    "maxpool, argmax = tf.nn.max_pool_with_argmax(test_img,\n",
    "                                             [1,2,2,1],\n",
    "                                             [1,2,2,1],\n",
    "                                            padding='SAME')"
   ]
  },
  {
   "cell_type": "code",
   "execution_count": 7,
   "metadata": {
    "collapsed": true
   },
   "outputs": [],
   "source": [
    "unpool = tf.Variable(tf.zeros([784,]))\n",
    "maxflat = tf.reshape(maxpool, [196,])\n",
    "argflat = tf.reshape(argmax, [196,])\n",
    "\n",
    "unpool.initializer.run()"
   ]
  },
  {
   "cell_type": "code",
   "execution_count": 8,
   "metadata": {
    "collapsed": false
   },
   "outputs": [],
   "source": [
    "unpool = tf.reshape(tf.scatter_update(unpool, argflat, maxflat), [1,28,28,1])"
   ]
  },
  {
   "cell_type": "code",
   "execution_count": 9,
   "metadata": {
    "collapsed": false
   },
   "outputs": [
    {
     "data": {
      "text/plain": [
       "<matplotlib.image.AxesImage at 0x7f9100227f10>"
      ]
     },
     "execution_count": 9,
     "metadata": {},
     "output_type": "execute_result"
    },
    {
     "data": {
      "image/png": "[encoded data removed]",
      "text/plain": [
       "<matplotlib.figure.Figure at 0x7f9100337d10>"
      ]
     },
     "metadata": {},
     "output_type": "display_data"
    }
   ],
   "source": [
    "plt.subplot(1,3,1)\n",
    "imshow(test_img.eval())\n",
    "plt.subplot(1,3,2)\n",
    "imshow(maxpool.eval())\n",
    "plt.subplot(1,3,3)\n",
    "imshow(unpool.eval())"
   ]
  },
  {
   "cell_type": "code",
   "execution_count": 10,
   "metadata": {
    "collapsed": false
   },
   "outputs": [],
   "source": [
    "from cae import flatten"
   ]
  },
  {
   "cell_type": "code",
   "execution_count": 11,
   "metadata": {
    "collapsed": true
   },
   "outputs": [],
   "source": [
    "def max_pool_argmax(name, input, padding='SAME'):\n",
    "    maxpool, argmax = tf.nn.max_pool_with_argmax(input,\n",
    "                                                 [1,2,2,1],\n",
    "                                                 [1,2,2,1],\n",
    "                                                 padding=padding)\n",
    "    return (maxpool, argmax)\n",
    "    \n",
    "def argmax_unpool(name, maxpool, argmax, padding='SAME'):\n",
    "    with tf.variable_scope(name) as scope:\n",
    "        max_shape = [s.value for s in maxpool.get_shape()]\n",
    "        \n",
    "        maxflat = tf.reshape(maxpool, [-1, max_shape[1] * max_shape[2] * max_shape[3]])\n",
    "        argflat = flatten('argflat',argmax)\n",
    "        \n",
    "        # unpooled shape will be 4 * pooled (for 2x2)\n",
    "        flat_shape = 4 * maxflat.get_shape()[1].value\n",
    "        unpool = tf.Variable(tf.zeros([flat_shape,]))\n",
    "        unpool.initializer.run()\n",
    "        \n",
    "        unpool = tf.scatter_update(unpool, argflat, maxflat)\n",
    "        unpool_shape = [-1, 2 * max_shape[1], 2 * max_shape[2], max_shape[3]]\n",
    "        return tf.reshape(unpool, unpool_shape)"
   ]
  },
  {
   "cell_type": "code",
   "execution_count": 16,
   "metadata": {
    "collapsed": false
   },
   "outputs": [],
   "source": [
    "maxpool, argmax = max_pool_argmax('mp', test_img)\n",
    "unpool = argmax_unpool('up', maxpool, argmax)"
   ]
  },
  {
   "cell_type": "code",
   "execution_count": 17,
   "metadata": {
    "collapsed": false
   },
   "outputs": [
    {
     "data": {
      "text/plain": [
       "<matplotlib.image.AxesImage at 0x7f9148e2df50>"
      ]
     },
     "execution_count": 17,
     "metadata": {},
     "output_type": "execute_result"
    },
    {
     "data": {
      "image/png": "[encoded data removed]",
      "text/plain": [
       "<matplotlib.figure.Figure at 0x7f9148ef16d0>"
      ]
     },
     "metadata": {},
     "output_type": "display_data"
    }
   ],
   "source": [
    "plt.subplot(1,3,1)\n",
    "imshow(test_img.eval())\n",
    "plt.subplot(1,3,2)\n",
    "imshow(maxpool.eval())\n",
    "plt.subplot(1,3,3)\n",
    "imshow(unpool.eval())"
   ]
  },
  {
   "cell_type": "code",
   "execution_count": null,
   "metadata": {
    "collapsed": true
   },
   "outputs": [],
   "source": []
  }
 ],
 "metadata": {
  "kernelspec": {
   "display_name": "Python 2",
   "language": "python",
   "name": "python2"
  },
  "language_info": {
   "codemirror_mode": {
    "name": "ipython",
    "version": 2
   },
   "file_extension": ".py",
   "mimetype": "text/x-python",
   "name": "python",
   "nbconvert_exporter": "python",
   "pygments_lexer": "ipython2",
   "version": "2.7.11"
  }
 },
 "nbformat": 4,
 "nbformat_minor": 0
}
